{
 "cells": [
  {
   "cell_type": "markdown",
   "metadata": {
    "colab_type": "text",
    "id": "TaFf_9SEO_Bz"
   },
   "source": [
    "One of the most compelling stories of sports analytics made popular by the 2011 movie Moneyball, the Oakland Athletics team of 2002 created history by winning 20 consecutive games between August 13 and September 2002.\n",
    "Much of the Oakland Athletics (popularly referred to as the A’s) success in that season is attributed to their General Manager, Billy Beane and former Assistant General Manager, Paul DePodesta."
   ]
  },
  {
   "cell_type": "markdown",
   "metadata": {
    "colab_type": "text",
    "id": "_WV8kKKTPXBR"
   },
   "source": [
    "DePodesta, a graduate in Economics from Harvard University joined the A’s in 1999 and quickly started incorporating analysis of baseball statistics to value and purchase players."
   ]
  },
  {
   "cell_type": "code",
   "execution_count": 0,
   "metadata": {
    "colab": {},
    "colab_type": "code",
    "id": "rNIDikRVO8vW"
   },
   "outputs": [],
   "source": [
    "import numpy as np\n",
    "import pandas as pd\n",
    "import matplotlib.pyplot as plt\n",
    "%matplotlib inline\n"
   ]
  },
  {
   "cell_type": "code",
   "execution_count": 2,
   "metadata": {
    "colab": {
     "base_uri": "https://localhost:8080/",
     "height": 121
    },
    "colab_type": "code",
    "executionInfo": {
     "elapsed": 25191,
     "status": "ok",
     "timestamp": 1571198454557,
     "user": {
      "displayName": "Mahesh Anand",
      "photoUrl": "https://lh3.googleusercontent.com/a-/AAuE7mDwRqsBffQmzXsc6rHxDVmepWB7mxD_zfhcK5E1=s64",
      "userId": "06788086636039591358"
     },
     "user_tz": -330
    },
    "id": "hYZghmpTEV94",
    "outputId": "516f6413-9589-42ce-cd17-4f9c62937b47"
   },
   "outputs": [
    {
     "name": "stdout",
     "output_type": "stream",
     "text": [
      "Go to this URL in a browser: https://accounts.google.com/o/oauth2/auth?client_id=947318989803-6bn6qk8qdgf4n4g3pfee6491hc0brc4i.apps.googleusercontent.com&redirect_uri=urn%3Aietf%3Awg%3Aoauth%3A2.0%3Aoob&scope=email%20https%3A%2F%2Fwww.googleapis.com%2Fauth%2Fdocs.test%20https%3A%2F%2Fwww.googleapis.com%2Fauth%2Fdrive%20https%3A%2F%2Fwww.googleapis.com%2Fauth%2Fdrive.photos.readonly%20https%3A%2F%2Fwww.googleapis.com%2Fauth%2Fpeopleapi.readonly&response_type=code\n",
      "\n",
      "Enter your authorization code:\n",
      "··········\n",
      "Mounted at /content/drive\n"
     ]
    }
   ],
   "source": [
    "from google.colab import drive\n",
    "drive.mount('/content/drive')"
   ]
  },
  {
   "cell_type": "code",
   "execution_count": 0,
   "metadata": {
    "colab": {},
    "colab_type": "code",
    "id": "9Ps1Q287FBLO"
   },
   "outputs": [],
   "source": [
    "#RA - Runs Allowed\n",
    "#RS - Runs Scored\n",
    "#OBP - On Base Percentage\n",
    "#SLG - Slugging Percentage\n",
    "#BA - Batting Average\n",
    "#OOBP - Opponent's OBP\n",
    "#OSLG - Opponent's SLG\n",
    "#W - No of wins in that season\n",
    "#Statistical Analysis Clip from Moneyball (2011)"
   ]
  },
  {
   "cell_type": "code",
   "execution_count": 3,
   "metadata": {
    "colab": {
     "base_uri": "https://localhost:8080/",
     "height": 195
    },
    "colab_type": "code",
    "executionInfo": {
     "elapsed": 1796,
     "status": "ok",
     "timestamp": 1571199465709,
     "user": {
      "displayName": "Mahesh Anand",
      "photoUrl": "https://lh3.googleusercontent.com/a-/AAuE7mDwRqsBffQmzXsc6rHxDVmepWB7mxD_zfhcK5E1=s64",
      "userId": "06788086636039591358"
     },
     "user_tz": -330
    },
    "id": "uh_PdTrbD-Yx",
    "outputId": "d0642eea-f782-4914-b996-d8a7d593f2c6"
   },
   "outputs": [
    {
     "data": {
      "text/html": [
       "<div>\n",
       "<style scoped>\n",
       "    .dataframe tbody tr th:only-of-type {\n",
       "        vertical-align: middle;\n",
       "    }\n",
       "\n",
       "    .dataframe tbody tr th {\n",
       "        vertical-align: top;\n",
       "    }\n",
       "\n",
       "    .dataframe thead th {\n",
       "        text-align: right;\n",
       "    }\n",
       "</style>\n",
       "<table border=\"1\" class=\"dataframe\">\n",
       "  <thead>\n",
       "    <tr style=\"text-align: right;\">\n",
       "      <th></th>\n",
       "      <th>Team</th>\n",
       "      <th>League</th>\n",
       "      <th>Year</th>\n",
       "      <th>RS</th>\n",
       "      <th>RA</th>\n",
       "      <th>W</th>\n",
       "      <th>OBP</th>\n",
       "      <th>SLG</th>\n",
       "      <th>BA</th>\n",
       "      <th>Playoffs</th>\n",
       "      <th>RankSeason</th>\n",
       "      <th>RankPlayoffs</th>\n",
       "      <th>G</th>\n",
       "      <th>OOBP</th>\n",
       "      <th>OSLG</th>\n",
       "    </tr>\n",
       "  </thead>\n",
       "  <tbody>\n",
       "    <tr>\n",
       "      <th>0</th>\n",
       "      <td>ARI</td>\n",
       "      <td>NL</td>\n",
       "      <td>2012</td>\n",
       "      <td>734</td>\n",
       "      <td>688</td>\n",
       "      <td>81</td>\n",
       "      <td>0.328</td>\n",
       "      <td>0.418</td>\n",
       "      <td>0.259</td>\n",
       "      <td>0</td>\n",
       "      <td>NaN</td>\n",
       "      <td>NaN</td>\n",
       "      <td>162</td>\n",
       "      <td>0.317</td>\n",
       "      <td>0.415</td>\n",
       "    </tr>\n",
       "    <tr>\n",
       "      <th>1</th>\n",
       "      <td>ATL</td>\n",
       "      <td>NL</td>\n",
       "      <td>2012</td>\n",
       "      <td>700</td>\n",
       "      <td>600</td>\n",
       "      <td>94</td>\n",
       "      <td>0.320</td>\n",
       "      <td>0.389</td>\n",
       "      <td>0.247</td>\n",
       "      <td>1</td>\n",
       "      <td>4.0</td>\n",
       "      <td>5.0</td>\n",
       "      <td>162</td>\n",
       "      <td>0.306</td>\n",
       "      <td>0.378</td>\n",
       "    </tr>\n",
       "    <tr>\n",
       "      <th>2</th>\n",
       "      <td>BAL</td>\n",
       "      <td>AL</td>\n",
       "      <td>2012</td>\n",
       "      <td>712</td>\n",
       "      <td>705</td>\n",
       "      <td>93</td>\n",
       "      <td>0.311</td>\n",
       "      <td>0.417</td>\n",
       "      <td>0.247</td>\n",
       "      <td>1</td>\n",
       "      <td>5.0</td>\n",
       "      <td>4.0</td>\n",
       "      <td>162</td>\n",
       "      <td>0.315</td>\n",
       "      <td>0.403</td>\n",
       "    </tr>\n",
       "    <tr>\n",
       "      <th>3</th>\n",
       "      <td>BOS</td>\n",
       "      <td>AL</td>\n",
       "      <td>2012</td>\n",
       "      <td>734</td>\n",
       "      <td>806</td>\n",
       "      <td>69</td>\n",
       "      <td>0.315</td>\n",
       "      <td>0.415</td>\n",
       "      <td>0.260</td>\n",
       "      <td>0</td>\n",
       "      <td>NaN</td>\n",
       "      <td>NaN</td>\n",
       "      <td>162</td>\n",
       "      <td>0.331</td>\n",
       "      <td>0.428</td>\n",
       "    </tr>\n",
       "    <tr>\n",
       "      <th>4</th>\n",
       "      <td>CHC</td>\n",
       "      <td>NL</td>\n",
       "      <td>2012</td>\n",
       "      <td>613</td>\n",
       "      <td>759</td>\n",
       "      <td>61</td>\n",
       "      <td>0.302</td>\n",
       "      <td>0.378</td>\n",
       "      <td>0.240</td>\n",
       "      <td>0</td>\n",
       "      <td>NaN</td>\n",
       "      <td>NaN</td>\n",
       "      <td>162</td>\n",
       "      <td>0.335</td>\n",
       "      <td>0.424</td>\n",
       "    </tr>\n",
       "  </tbody>\n",
       "</table>\n",
       "</div>"
      ],
      "text/plain": [
       "  Team League  Year   RS   RA  ...  RankSeason  RankPlayoffs    G   OOBP   OSLG\n",
       "0  ARI     NL  2012  734  688  ...         NaN           NaN  162  0.317  0.415\n",
       "1  ATL     NL  2012  700  600  ...         4.0           5.0  162  0.306  0.378\n",
       "2  BAL     AL  2012  712  705  ...         5.0           4.0  162  0.315  0.403\n",
       "3  BOS     AL  2012  734  806  ...         NaN           NaN  162  0.331  0.428\n",
       "4  CHC     NL  2012  613  759  ...         NaN           NaN  162  0.335  0.424\n",
       "\n",
       "[5 rows x 15 columns]"
      ]
     },
     "execution_count": 3,
     "metadata": {
      "tags": []
     },
     "output_type": "execute_result"
    }
   ],
   "source": [
    "df=pd.read_csv('/content/drive/My Drive/Case Studies Mahesh Anand/baseball.csv')\n",
    "df.head()"
   ]
  },
  {
   "cell_type": "code",
   "execution_count": 8,
   "metadata": {
    "colab": {
     "base_uri": "https://localhost:8080/",
     "height": 34
    },
    "colab_type": "code",
    "executionInfo": {
     "elapsed": 1285,
     "status": "ok",
     "timestamp": 1571199901890,
     "user": {
      "displayName": "Mahesh Anand",
      "photoUrl": "https://lh3.googleusercontent.com/a-/AAuE7mDwRqsBffQmzXsc6rHxDVmepWB7mxD_zfhcK5E1=s64",
      "userId": "06788086636039591358"
     },
     "user_tz": -330
    },
    "id": "9Je6Mqm8z84A",
    "outputId": "a06ae14c-5322-4e31-f56c-12f237d32155"
   },
   "outputs": [
    {
     "data": {
      "text/plain": [
       "(1232, 15)"
      ]
     },
     "execution_count": 8,
     "metadata": {
      "tags": []
     },
     "output_type": "execute_result"
    }
   ],
   "source": [
    "df.shape"
   ]
  },
  {
   "cell_type": "code",
   "execution_count": 5,
   "metadata": {
    "colab": {
     "base_uri": "https://localhost:8080/",
     "height": 286
    },
    "colab_type": "code",
    "executionInfo": {
     "elapsed": 1349,
     "status": "ok",
     "timestamp": 1571199501906,
     "user": {
      "displayName": "Mahesh Anand",
      "photoUrl": "https://lh3.googleusercontent.com/a-/AAuE7mDwRqsBffQmzXsc6rHxDVmepWB7mxD_zfhcK5E1=s64",
      "userId": "06788086636039591358"
     },
     "user_tz": -330
    },
    "id": "p4Z8wFvzyUwC",
    "outputId": "58471f0a-a91e-4177-ca9d-35a5f8b90660"
   },
   "outputs": [
    {
     "data": {
      "text/plain": [
       "<matplotlib.axes._subplots.AxesSubplot at 0x7f94ad8647f0>"
      ]
     },
     "execution_count": 5,
     "metadata": {
      "tags": []
     },
     "output_type": "execute_result"
    },
    {
     "data": {
      "image/png": "[encoded data removed]",
      "text/plain": [
       "<Figure size 432x288 with 1 Axes>"
      ]
     },
     "metadata": {
      "tags": []
     },
     "output_type": "display_data"
    }
   ],
   "source": [
    "df['G'].hist()"
   ]
  },
  {
   "cell_type": "code",
   "execution_count": 6,
   "metadata": {
    "colab": {
     "base_uri": "https://localhost:8080/",
     "height": 452
    },
    "colab_type": "code",
    "executionInfo": {
     "elapsed": 1278,
     "status": "ok",
     "timestamp": 1571199568740,
     "user": {
      "displayName": "Mahesh Anand",
      "photoUrl": "https://lh3.googleusercontent.com/a-/AAuE7mDwRqsBffQmzXsc6rHxDVmepWB7mxD_zfhcK5E1=s64",
      "userId": "06788086636039591358"
     },
     "user_tz": -330
    },
    "id": "-MJFVqWkyrVl",
    "outputId": "a6e1a765-86af-4133-cc32-9ee658334fe3"
   },
   "outputs": [
    {
     "data": {
      "text/html": [
       "<div>\n",
       "<style scoped>\n",
       "    .dataframe tbody tr th:only-of-type {\n",
       "        vertical-align: middle;\n",
       "    }\n",
       "\n",
       "    .dataframe tbody tr th {\n",
       "        vertical-align: top;\n",
       "    }\n",
       "\n",
       "    .dataframe thead th {\n",
       "        text-align: right;\n",
       "    }\n",
       "</style>\n",
       "<table border=\"1\" class=\"dataframe\">\n",
       "  <thead>\n",
       "    <tr style=\"text-align: right;\">\n",
       "      <th></th>\n",
       "      <th>Year</th>\n",
       "      <th>RS</th>\n",
       "      <th>RA</th>\n",
       "      <th>W</th>\n",
       "      <th>OBP</th>\n",
       "      <th>SLG</th>\n",
       "      <th>BA</th>\n",
       "      <th>Playoffs</th>\n",
       "      <th>RankSeason</th>\n",
       "      <th>RankPlayoffs</th>\n",
       "      <th>G</th>\n",
       "      <th>OOBP</th>\n",
       "      <th>OSLG</th>\n",
       "    </tr>\n",
       "  </thead>\n",
       "  <tbody>\n",
       "    <tr>\n",
       "      <th>Year</th>\n",
       "      <td>1.000000</td>\n",
       "      <td>0.418978</td>\n",
       "      <td>0.412020</td>\n",
       "      <td>0.004138</td>\n",
       "      <td>0.374354</td>\n",
       "      <td>0.536037</td>\n",
       "      <td>0.349397</td>\n",
       "      <td>0.145779</td>\n",
       "      <td>0.385219</td>\n",
       "      <td>0.443967</td>\n",
       "      <td>0.009287</td>\n",
       "      <td>-0.371869</td>\n",
       "      <td>-0.345667</td>\n",
       "    </tr>\n",
       "    <tr>\n",
       "      <th>RS</th>\n",
       "      <td>0.418978</td>\n",
       "      <td>1.000000</td>\n",
       "      <td>0.380139</td>\n",
       "      <td>0.511745</td>\n",
       "      <td>0.900492</td>\n",
       "      <td>0.918740</td>\n",
       "      <td>0.827000</td>\n",
       "      <td>0.386628</td>\n",
       "      <td>-0.027687</td>\n",
       "      <td>0.210963</td>\n",
       "      <td>0.075195</td>\n",
       "      <td>0.133981</td>\n",
       "      <td>0.193426</td>\n",
       "    </tr>\n",
       "    <tr>\n",
       "      <th>RA</th>\n",
       "      <td>0.412020</td>\n",
       "      <td>0.380139</td>\n",
       "      <td>1.000000</td>\n",
       "      <td>-0.532394</td>\n",
       "      <td>0.326360</td>\n",
       "      <td>0.436527</td>\n",
       "      <td>0.330764</td>\n",
       "      <td>-0.261477</td>\n",
       "      <td>0.399141</td>\n",
       "      <td>0.315128</td>\n",
       "      <td>-0.023369</td>\n",
       "      <td>0.910344</td>\n",
       "      <td>0.909319</td>\n",
       "    </tr>\n",
       "    <tr>\n",
       "      <th>W</th>\n",
       "      <td>0.004138</td>\n",
       "      <td>0.511745</td>\n",
       "      <td>-0.532394</td>\n",
       "      <td>1.000000</td>\n",
       "      <td>0.481836</td>\n",
       "      <td>0.401496</td>\n",
       "      <td>0.408716</td>\n",
       "      <td>0.616757</td>\n",
       "      <td>-0.755098</td>\n",
       "      <td>-0.198960</td>\n",
       "      <td>0.105309</td>\n",
       "      <td>-0.634315</td>\n",
       "      <td>-0.568490</td>\n",
       "    </tr>\n",
       "    <tr>\n",
       "      <th>OBP</th>\n",
       "      <td>0.374354</td>\n",
       "      <td>0.900492</td>\n",
       "      <td>0.326360</td>\n",
       "      <td>0.481836</td>\n",
       "      <td>1.000000</td>\n",
       "      <td>0.790910</td>\n",
       "      <td>0.851958</td>\n",
       "      <td>0.363890</td>\n",
       "      <td>0.001612</td>\n",
       "      <td>0.175349</td>\n",
       "      <td>0.016563</td>\n",
       "      <td>0.120349</td>\n",
       "      <td>0.153372</td>\n",
       "    </tr>\n",
       "    <tr>\n",
       "      <th>SLG</th>\n",
       "      <td>0.536037</td>\n",
       "      <td>0.918740</td>\n",
       "      <td>0.436527</td>\n",
       "      <td>0.401496</td>\n",
       "      <td>0.790910</td>\n",
       "      <td>1.000000</td>\n",
       "      <td>0.790481</td>\n",
       "      <td>0.324713</td>\n",
       "      <td>0.126663</td>\n",
       "      <td>0.271893</td>\n",
       "      <td>0.036770</td>\n",
       "      <td>0.143861</td>\n",
       "      <td>0.210423</td>\n",
       "    </tr>\n",
       "    <tr>\n",
       "      <th>BA</th>\n",
       "      <td>0.349397</td>\n",
       "      <td>0.827000</td>\n",
       "      <td>0.330764</td>\n",
       "      <td>0.408716</td>\n",
       "      <td>0.851958</td>\n",
       "      <td>0.790481</td>\n",
       "      <td>1.000000</td>\n",
       "      <td>0.290217</td>\n",
       "      <td>0.035452</td>\n",
       "      <td>0.092684</td>\n",
       "      <td>0.019886</td>\n",
       "      <td>0.187108</td>\n",
       "      <td>0.227808</td>\n",
       "    </tr>\n",
       "    <tr>\n",
       "      <th>Playoffs</th>\n",
       "      <td>0.145779</td>\n",
       "      <td>0.386628</td>\n",
       "      <td>-0.261477</td>\n",
       "      <td>0.616757</td>\n",
       "      <td>0.363890</td>\n",
       "      <td>0.324713</td>\n",
       "      <td>0.290217</td>\n",
       "      <td>1.000000</td>\n",
       "      <td>NaN</td>\n",
       "      <td>NaN</td>\n",
       "      <td>0.022208</td>\n",
       "      <td>-0.433572</td>\n",
       "      <td>-0.366744</td>\n",
       "    </tr>\n",
       "    <tr>\n",
       "      <th>RankSeason</th>\n",
       "      <td>0.385219</td>\n",
       "      <td>-0.027687</td>\n",
       "      <td>0.399141</td>\n",
       "      <td>-0.755098</td>\n",
       "      <td>0.001612</td>\n",
       "      <td>0.126663</td>\n",
       "      <td>0.035452</td>\n",
       "      <td>NaN</td>\n",
       "      <td>1.000000</td>\n",
       "      <td>0.266906</td>\n",
       "      <td>0.069222</td>\n",
       "      <td>0.097731</td>\n",
       "      <td>0.050111</td>\n",
       "    </tr>\n",
       "    <tr>\n",
       "      <th>RankPlayoffs</th>\n",
       "      <td>0.443967</td>\n",
       "      <td>0.210963</td>\n",
       "      <td>0.315128</td>\n",
       "      <td>-0.198960</td>\n",
       "      <td>0.175349</td>\n",
       "      <td>0.271893</td>\n",
       "      <td>0.092684</td>\n",
       "      <td>NaN</td>\n",
       "      <td>0.266906</td>\n",
       "      <td>1.000000</td>\n",
       "      <td>0.007820</td>\n",
       "      <td>0.065808</td>\n",
       "      <td>0.087089</td>\n",
       "    </tr>\n",
       "    <tr>\n",
       "      <th>G</th>\n",
       "      <td>0.009287</td>\n",
       "      <td>0.075195</td>\n",
       "      <td>-0.023369</td>\n",
       "      <td>0.105309</td>\n",
       "      <td>0.016563</td>\n",
       "      <td>0.036770</td>\n",
       "      <td>0.019886</td>\n",
       "      <td>0.022208</td>\n",
       "      <td>0.069222</td>\n",
       "      <td>0.007820</td>\n",
       "      <td>1.000000</td>\n",
       "      <td>-0.077055</td>\n",
       "      <td>-0.004188</td>\n",
       "    </tr>\n",
       "    <tr>\n",
       "      <th>OOBP</th>\n",
       "      <td>-0.371869</td>\n",
       "      <td>0.133981</td>\n",
       "      <td>0.910344</td>\n",
       "      <td>-0.634315</td>\n",
       "      <td>0.120349</td>\n",
       "      <td>0.143861</td>\n",
       "      <td>0.187108</td>\n",
       "      <td>-0.433572</td>\n",
       "      <td>0.097731</td>\n",
       "      <td>0.065808</td>\n",
       "      <td>-0.077055</td>\n",
       "      <td>1.000000</td>\n",
       "      <td>0.830902</td>\n",
       "    </tr>\n",
       "    <tr>\n",
       "      <th>OSLG</th>\n",
       "      <td>-0.345667</td>\n",
       "      <td>0.193426</td>\n",
       "      <td>0.909319</td>\n",
       "      <td>-0.568490</td>\n",
       "      <td>0.153372</td>\n",
       "      <td>0.210423</td>\n",
       "      <td>0.227808</td>\n",
       "      <td>-0.366744</td>\n",
       "      <td>0.050111</td>\n",
       "      <td>0.087089</td>\n",
       "      <td>-0.004188</td>\n",
       "      <td>0.830902</td>\n",
       "      <td>1.000000</td>\n",
       "    </tr>\n",
       "  </tbody>\n",
       "</table>\n",
       "</div>"
      ],
      "text/plain": [
       "                  Year        RS        RA  ...         G      OOBP      OSLG\n",
       "Year          1.000000  0.418978  0.412020  ...  0.009287 -0.371869 -0.345667\n",
       "RS            0.418978  1.000000  0.380139  ...  0.075195  0.133981  0.193426\n",
       "RA            0.412020  0.380139  1.000000  ... -0.023369  0.910344  0.909319\n",
       "W             0.004138  0.511745 -0.532394  ...  0.105309 -0.634315 -0.568490\n",
       "OBP           0.374354  0.900492  0.326360  ...  0.016563  0.120349  0.153372\n",
       "SLG           0.536037  0.918740  0.436527  ...  0.036770  0.143861  0.210423\n",
       "BA            0.349397  0.827000  0.330764  ...  0.019886  0.187108  0.227808\n",
       "Playoffs      0.145779  0.386628 -0.261477  ...  0.022208 -0.433572 -0.366744\n",
       "RankSeason    0.385219 -0.027687  0.399141  ...  0.069222  0.097731  0.050111\n",
       "RankPlayoffs  0.443967  0.210963  0.315128  ...  0.007820  0.065808  0.087089\n",
       "G             0.009287  0.075195 -0.023369  ...  1.000000 -0.077055 -0.004188\n",
       "OOBP         -0.371869  0.133981  0.910344  ... -0.077055  1.000000  0.830902\n",
       "OSLG         -0.345667  0.193426  0.909319  ... -0.004188  0.830902  1.000000\n",
       "\n",
       "[13 rows x 13 columns]"
      ]
     },
     "execution_count": 6,
     "metadata": {
      "tags": []
     },
     "output_type": "execute_result"
    }
   ],
   "source": [
    "df.corr()"
   ]
  },
  {
   "cell_type": "code",
   "execution_count": 0,
   "metadata": {
    "colab": {
     "base_uri": "https://localhost:8080/",
     "height": 195
    },
    "colab_type": "code",
    "executionInfo": {
     "elapsed": 1028,
     "status": "ok",
     "timestamp": 1571138344274,
     "user": {
      "displayName": "Mahesh Anand",
      "photoUrl": "https://lh3.googleusercontent.com/a-/AAuE7mDwRqsBffQmzXsc6rHxDVmepWB7mxD_zfhcK5E1=s64",
      "userId": "06788086636039591358"
     },
     "user_tz": -330
    },
    "id": "K1qhV-SpG936",
    "outputId": "e205ea00-354d-48a3-ada6-e6b68c764fbc"
   },
   "outputs": [
    {
     "data": {
      "text/html": [
       "<div>\n",
       "<style scoped>\n",
       "    .dataframe tbody tr th:only-of-type {\n",
       "        vertical-align: middle;\n",
       "    }\n",
       "\n",
       "    .dataframe tbody tr th {\n",
       "        vertical-align: top;\n",
       "    }\n",
       "\n",
       "    .dataframe thead th {\n",
       "        text-align: right;\n",
       "    }\n",
       "</style>\n",
       "<table border=\"1\" class=\"dataframe\">\n",
       "  <thead>\n",
       "    <tr style=\"text-align: right;\">\n",
       "      <th></th>\n",
       "      <th>Team</th>\n",
       "      <th>League</th>\n",
       "      <th>Year</th>\n",
       "      <th>RS</th>\n",
       "      <th>RA</th>\n",
       "      <th>W</th>\n",
       "      <th>OBP</th>\n",
       "      <th>SLG</th>\n",
       "      <th>BA</th>\n",
       "      <th>Playoffs</th>\n",
       "      <th>RankSeason</th>\n",
       "      <th>RankPlayoffs</th>\n",
       "      <th>G</th>\n",
       "      <th>OOBP</th>\n",
       "      <th>OSLG</th>\n",
       "      <th>RD</th>\n",
       "    </tr>\n",
       "  </thead>\n",
       "  <tbody>\n",
       "    <tr>\n",
       "      <th>0</th>\n",
       "      <td>ARI</td>\n",
       "      <td>NL</td>\n",
       "      <td>2012</td>\n",
       "      <td>734</td>\n",
       "      <td>688</td>\n",
       "      <td>81</td>\n",
       "      <td>0.328</td>\n",
       "      <td>0.418</td>\n",
       "      <td>0.259</td>\n",
       "      <td>0</td>\n",
       "      <td>NaN</td>\n",
       "      <td>NaN</td>\n",
       "      <td>162</td>\n",
       "      <td>0.317</td>\n",
       "      <td>0.415</td>\n",
       "      <td>46</td>\n",
       "    </tr>\n",
       "    <tr>\n",
       "      <th>1</th>\n",
       "      <td>ATL</td>\n",
       "      <td>NL</td>\n",
       "      <td>2012</td>\n",
       "      <td>700</td>\n",
       "      <td>600</td>\n",
       "      <td>94</td>\n",
       "      <td>0.320</td>\n",
       "      <td>0.389</td>\n",
       "      <td>0.247</td>\n",
       "      <td>1</td>\n",
       "      <td>4.0</td>\n",
       "      <td>5.0</td>\n",
       "      <td>162</td>\n",
       "      <td>0.306</td>\n",
       "      <td>0.378</td>\n",
       "      <td>100</td>\n",
       "    </tr>\n",
       "    <tr>\n",
       "      <th>2</th>\n",
       "      <td>BAL</td>\n",
       "      <td>AL</td>\n",
       "      <td>2012</td>\n",
       "      <td>712</td>\n",
       "      <td>705</td>\n",
       "      <td>93</td>\n",
       "      <td>0.311</td>\n",
       "      <td>0.417</td>\n",
       "      <td>0.247</td>\n",
       "      <td>1</td>\n",
       "      <td>5.0</td>\n",
       "      <td>4.0</td>\n",
       "      <td>162</td>\n",
       "      <td>0.315</td>\n",
       "      <td>0.403</td>\n",
       "      <td>7</td>\n",
       "    </tr>\n",
       "    <tr>\n",
       "      <th>3</th>\n",
       "      <td>BOS</td>\n",
       "      <td>AL</td>\n",
       "      <td>2012</td>\n",
       "      <td>734</td>\n",
       "      <td>806</td>\n",
       "      <td>69</td>\n",
       "      <td>0.315</td>\n",
       "      <td>0.415</td>\n",
       "      <td>0.260</td>\n",
       "      <td>0</td>\n",
       "      <td>NaN</td>\n",
       "      <td>NaN</td>\n",
       "      <td>162</td>\n",
       "      <td>0.331</td>\n",
       "      <td>0.428</td>\n",
       "      <td>-72</td>\n",
       "    </tr>\n",
       "    <tr>\n",
       "      <th>4</th>\n",
       "      <td>CHC</td>\n",
       "      <td>NL</td>\n",
       "      <td>2012</td>\n",
       "      <td>613</td>\n",
       "      <td>759</td>\n",
       "      <td>61</td>\n",
       "      <td>0.302</td>\n",
       "      <td>0.378</td>\n",
       "      <td>0.240</td>\n",
       "      <td>0</td>\n",
       "      <td>NaN</td>\n",
       "      <td>NaN</td>\n",
       "      <td>162</td>\n",
       "      <td>0.335</td>\n",
       "      <td>0.424</td>\n",
       "      <td>-146</td>\n",
       "    </tr>\n",
       "  </tbody>\n",
       "</table>\n",
       "</div>"
      ],
      "text/plain": [
       "  Team League  Year   RS   RA  ...  RankPlayoffs    G   OOBP   OSLG   RD\n",
       "0  ARI     NL  2012  734  688  ...           NaN  162  0.317  0.415   46\n",
       "1  ATL     NL  2012  700  600  ...           5.0  162  0.306  0.378  100\n",
       "2  BAL     AL  2012  712  705  ...           4.0  162  0.315  0.403    7\n",
       "3  BOS     AL  2012  734  806  ...           NaN  162  0.331  0.428  -72\n",
       "4  CHC     NL  2012  613  759  ...           NaN  162  0.335  0.424 -146\n",
       "\n",
       "[5 rows x 16 columns]"
      ]
     },
     "execution_count": 109,
     "metadata": {
      "tags": []
     },
     "output_type": "execute_result"
    }
   ],
   "source": [
    "df['RD']=df['RS']-df['RA']\n",
    "df.head()"
   ]
  },
  {
   "cell_type": "code",
   "execution_count": 7,
   "metadata": {
    "colab": {
     "base_uri": "https://localhost:8080/",
     "height": 452
    },
    "colab_type": "code",
    "executionInfo": {
     "elapsed": 1314,
     "status": "ok",
     "timestamp": 1571199788231,
     "user": {
      "displayName": "Mahesh Anand",
      "photoUrl": "https://lh3.googleusercontent.com/a-/AAuE7mDwRqsBffQmzXsc6rHxDVmepWB7mxD_zfhcK5E1=s64",
      "userId": "06788086636039591358"
     },
     "user_tz": -330
    },
    "id": "pkJU8iexJB_W",
    "outputId": "8f72ee5e-93ae-4377-b77e-1bccf1aba17e"
   },
   "outputs": [
    {
     "data": {
      "text/html": [
       "<div>\n",
       "<style scoped>\n",
       "    .dataframe tbody tr th:only-of-type {\n",
       "        vertical-align: middle;\n",
       "    }\n",
       "\n",
       "    .dataframe tbody tr th {\n",
       "        vertical-align: top;\n",
       "    }\n",
       "\n",
       "    .dataframe thead th {\n",
       "        text-align: right;\n",
       "    }\n",
       "</style>\n",
       "<table border=\"1\" class=\"dataframe\">\n",
       "  <thead>\n",
       "    <tr style=\"text-align: right;\">\n",
       "      <th></th>\n",
       "      <th>Year</th>\n",
       "      <th>RS</th>\n",
       "      <th>RA</th>\n",
       "      <th>W</th>\n",
       "      <th>OBP</th>\n",
       "      <th>SLG</th>\n",
       "      <th>BA</th>\n",
       "      <th>Playoffs</th>\n",
       "      <th>RankSeason</th>\n",
       "      <th>RankPlayoffs</th>\n",
       "      <th>G</th>\n",
       "      <th>OOBP</th>\n",
       "      <th>OSLG</th>\n",
       "    </tr>\n",
       "  </thead>\n",
       "  <tbody>\n",
       "    <tr>\n",
       "      <th>Year</th>\n",
       "      <td>1.000000</td>\n",
       "      <td>0.418978</td>\n",
       "      <td>0.412020</td>\n",
       "      <td>0.004138</td>\n",
       "      <td>0.374354</td>\n",
       "      <td>0.536037</td>\n",
       "      <td>0.349397</td>\n",
       "      <td>0.145779</td>\n",
       "      <td>0.385219</td>\n",
       "      <td>0.443967</td>\n",
       "      <td>0.009287</td>\n",
       "      <td>-0.371869</td>\n",
       "      <td>-0.345667</td>\n",
       "    </tr>\n",
       "    <tr>\n",
       "      <th>RS</th>\n",
       "      <td>0.418978</td>\n",
       "      <td>1.000000</td>\n",
       "      <td>0.380139</td>\n",
       "      <td>0.511745</td>\n",
       "      <td>0.900492</td>\n",
       "      <td>0.918740</td>\n",
       "      <td>0.827000</td>\n",
       "      <td>0.386628</td>\n",
       "      <td>-0.027687</td>\n",
       "      <td>0.210963</td>\n",
       "      <td>0.075195</td>\n",
       "      <td>0.133981</td>\n",
       "      <td>0.193426</td>\n",
       "    </tr>\n",
       "    <tr>\n",
       "      <th>RA</th>\n",
       "      <td>0.412020</td>\n",
       "      <td>0.380139</td>\n",
       "      <td>1.000000</td>\n",
       "      <td>-0.532394</td>\n",
       "      <td>0.326360</td>\n",
       "      <td>0.436527</td>\n",
       "      <td>0.330764</td>\n",
       "      <td>-0.261477</td>\n",
       "      <td>0.399141</td>\n",
       "      <td>0.315128</td>\n",
       "      <td>-0.023369</td>\n",
       "      <td>0.910344</td>\n",
       "      <td>0.909319</td>\n",
       "    </tr>\n",
       "    <tr>\n",
       "      <th>W</th>\n",
       "      <td>0.004138</td>\n",
       "      <td>0.511745</td>\n",
       "      <td>-0.532394</td>\n",
       "      <td>1.000000</td>\n",
       "      <td>0.481836</td>\n",
       "      <td>0.401496</td>\n",
       "      <td>0.408716</td>\n",
       "      <td>0.616757</td>\n",
       "      <td>-0.755098</td>\n",
       "      <td>-0.198960</td>\n",
       "      <td>0.105309</td>\n",
       "      <td>-0.634315</td>\n",
       "      <td>-0.568490</td>\n",
       "    </tr>\n",
       "    <tr>\n",
       "      <th>OBP</th>\n",
       "      <td>0.374354</td>\n",
       "      <td>0.900492</td>\n",
       "      <td>0.326360</td>\n",
       "      <td>0.481836</td>\n",
       "      <td>1.000000</td>\n",
       "      <td>0.790910</td>\n",
       "      <td>0.851958</td>\n",
       "      <td>0.363890</td>\n",
       "      <td>0.001612</td>\n",
       "      <td>0.175349</td>\n",
       "      <td>0.016563</td>\n",
       "      <td>0.120349</td>\n",
       "      <td>0.153372</td>\n",
       "    </tr>\n",
       "    <tr>\n",
       "      <th>SLG</th>\n",
       "      <td>0.536037</td>\n",
       "      <td>0.918740</td>\n",
       "      <td>0.436527</td>\n",
       "      <td>0.401496</td>\n",
       "      <td>0.790910</td>\n",
       "      <td>1.000000</td>\n",
       "      <td>0.790481</td>\n",
       "      <td>0.324713</td>\n",
       "      <td>0.126663</td>\n",
       "      <td>0.271893</td>\n",
       "      <td>0.036770</td>\n",
       "      <td>0.143861</td>\n",
       "      <td>0.210423</td>\n",
       "    </tr>\n",
       "    <tr>\n",
       "      <th>BA</th>\n",
       "      <td>0.349397</td>\n",
       "      <td>0.827000</td>\n",
       "      <td>0.330764</td>\n",
       "      <td>0.408716</td>\n",
       "      <td>0.851958</td>\n",
       "      <td>0.790481</td>\n",
       "      <td>1.000000</td>\n",
       "      <td>0.290217</td>\n",
       "      <td>0.035452</td>\n",
       "      <td>0.092684</td>\n",
       "      <td>0.019886</td>\n",
       "      <td>0.187108</td>\n",
       "      <td>0.227808</td>\n",
       "    </tr>\n",
       "    <tr>\n",
       "      <th>Playoffs</th>\n",
       "      <td>0.145779</td>\n",
       "      <td>0.386628</td>\n",
       "      <td>-0.261477</td>\n",
       "      <td>0.616757</td>\n",
       "      <td>0.363890</td>\n",
       "      <td>0.324713</td>\n",
       "      <td>0.290217</td>\n",
       "      <td>1.000000</td>\n",
       "      <td>NaN</td>\n",
       "      <td>NaN</td>\n",
       "      <td>0.022208</td>\n",
       "      <td>-0.433572</td>\n",
       "      <td>-0.366744</td>\n",
       "    </tr>\n",
       "    <tr>\n",
       "      <th>RankSeason</th>\n",
       "      <td>0.385219</td>\n",
       "      <td>-0.027687</td>\n",
       "      <td>0.399141</td>\n",
       "      <td>-0.755098</td>\n",
       "      <td>0.001612</td>\n",
       "      <td>0.126663</td>\n",
       "      <td>0.035452</td>\n",
       "      <td>NaN</td>\n",
       "      <td>1.000000</td>\n",
       "      <td>0.266906</td>\n",
       "      <td>0.069222</td>\n",
       "      <td>0.097731</td>\n",
       "      <td>0.050111</td>\n",
       "    </tr>\n",
       "    <tr>\n",
       "      <th>RankPlayoffs</th>\n",
       "      <td>0.443967</td>\n",
       "      <td>0.210963</td>\n",
       "      <td>0.315128</td>\n",
       "      <td>-0.198960</td>\n",
       "      <td>0.175349</td>\n",
       "      <td>0.271893</td>\n",
       "      <td>0.092684</td>\n",
       "      <td>NaN</td>\n",
       "      <td>0.266906</td>\n",
       "      <td>1.000000</td>\n",
       "      <td>0.007820</td>\n",
       "      <td>0.065808</td>\n",
       "      <td>0.087089</td>\n",
       "    </tr>\n",
       "    <tr>\n",
       "      <th>G</th>\n",
       "      <td>0.009287</td>\n",
       "      <td>0.075195</td>\n",
       "      <td>-0.023369</td>\n",
       "      <td>0.105309</td>\n",
       "      <td>0.016563</td>\n",
       "      <td>0.036770</td>\n",
       "      <td>0.019886</td>\n",
       "      <td>0.022208</td>\n",
       "      <td>0.069222</td>\n",
       "      <td>0.007820</td>\n",
       "      <td>1.000000</td>\n",
       "      <td>-0.077055</td>\n",
       "      <td>-0.004188</td>\n",
       "    </tr>\n",
       "    <tr>\n",
       "      <th>OOBP</th>\n",
       "      <td>-0.371869</td>\n",
       "      <td>0.133981</td>\n",
       "      <td>0.910344</td>\n",
       "      <td>-0.634315</td>\n",
       "      <td>0.120349</td>\n",
       "      <td>0.143861</td>\n",
       "      <td>0.187108</td>\n",
       "      <td>-0.433572</td>\n",
       "      <td>0.097731</td>\n",
       "      <td>0.065808</td>\n",
       "      <td>-0.077055</td>\n",
       "      <td>1.000000</td>\n",
       "      <td>0.830902</td>\n",
       "    </tr>\n",
       "    <tr>\n",
       "      <th>OSLG</th>\n",
       "      <td>-0.345667</td>\n",
       "      <td>0.193426</td>\n",
       "      <td>0.909319</td>\n",
       "      <td>-0.568490</td>\n",
       "      <td>0.153372</td>\n",
       "      <td>0.210423</td>\n",
       "      <td>0.227808</td>\n",
       "      <td>-0.366744</td>\n",
       "      <td>0.050111</td>\n",
       "      <td>0.087089</td>\n",
       "      <td>-0.004188</td>\n",
       "      <td>0.830902</td>\n",
       "      <td>1.000000</td>\n",
       "    </tr>\n",
       "  </tbody>\n",
       "</table>\n",
       "</div>"
      ],
      "text/plain": [
       "                  Year        RS        RA  ...         G      OOBP      OSLG\n",
       "Year          1.000000  0.418978  0.412020  ...  0.009287 -0.371869 -0.345667\n",
       "RS            0.418978  1.000000  0.380139  ...  0.075195  0.133981  0.193426\n",
       "RA            0.412020  0.380139  1.000000  ... -0.023369  0.910344  0.909319\n",
       "W             0.004138  0.511745 -0.532394  ...  0.105309 -0.634315 -0.568490\n",
       "OBP           0.374354  0.900492  0.326360  ...  0.016563  0.120349  0.153372\n",
       "SLG           0.536037  0.918740  0.436527  ...  0.036770  0.143861  0.210423\n",
       "BA            0.349397  0.827000  0.330764  ...  0.019886  0.187108  0.227808\n",
       "Playoffs      0.145779  0.386628 -0.261477  ...  0.022208 -0.433572 -0.366744\n",
       "RankSeason    0.385219 -0.027687  0.399141  ...  0.069222  0.097731  0.050111\n",
       "RankPlayoffs  0.443967  0.210963  0.315128  ...  0.007820  0.065808  0.087089\n",
       "G             0.009287  0.075195 -0.023369  ...  1.000000 -0.077055 -0.004188\n",
       "OOBP         -0.371869  0.133981  0.910344  ... -0.077055  1.000000  0.830902\n",
       "OSLG         -0.345667  0.193426  0.909319  ... -0.004188  0.830902  1.000000\n",
       "\n",
       "[13 rows x 13 columns]"
      ]
     },
     "execution_count": 7,
     "metadata": {
      "tags": []
     },
     "output_type": "execute_result"
    }
   ],
   "source": [
    "df.corr()"
   ]
  },
  {
   "cell_type": "markdown",
   "metadata": {
    "colab_type": "text",
    "id": "LaAq7TfSzqWv"
   },
   "source": []
  },
  {
   "cell_type": "code",
   "execution_count": 0,
   "metadata": {
    "colab": {
     "base_uri": "https://localhost:8080/",
     "height": 34
    },
    "colab_type": "code",
    "executionInfo": {
     "elapsed": 1041,
     "status": "ok",
     "timestamp": 1571138351438,
     "user": {
      "displayName": "Mahesh Anand",
      "photoUrl": "https://lh3.googleusercontent.com/a-/AAuE7mDwRqsBffQmzXsc6rHxDVmepWB7mxD_zfhcK5E1=s64",
      "userId": "06788086636039591358"
     },
     "user_tz": -330
    },
    "id": "It8KmjkoIt4p",
    "outputId": "91d86dd1-c7d5-43af-bf0d-a6c4d8b48e25"
   },
   "outputs": [
    {
     "data": {
      "text/plain": [
       "(902, 16)"
      ]
     },
     "execution_count": 111,
     "metadata": {
      "tags": []
     },
     "output_type": "execute_result"
    }
   ],
   "source": [
    "#To replicate the data prior to 2002 season\n",
    "df1=df[df['Year']<2002]\n",
    "df1.shape"
   ]
  },
  {
   "cell_type": "code",
   "execution_count": 0,
   "metadata": {
    "colab": {
     "base_uri": "https://localhost:8080/",
     "height": 616
    },
    "colab_type": "code",
    "executionInfo": {
     "elapsed": 1036,
     "status": "ok",
     "timestamp": 1571133278598,
     "user": {
      "displayName": "Mahesh Anand",
      "photoUrl": "https://lh3.googleusercontent.com/a-/AAuE7mDwRqsBffQmzXsc6rHxDVmepWB7mxD_zfhcK5E1=s64",
      "userId": "06788086636039591358"
     },
     "user_tz": -330
    },
    "id": "DFNKJcKzJVWh",
    "outputId": "a67af658-2532-4b61-bbab-761688ea41a0"
   },
   "outputs": [
    {
     "data": {
      "text/html": [
       "<div>\n",
       "<style scoped>\n",
       "    .dataframe tbody tr th:only-of-type {\n",
       "        vertical-align: middle;\n",
       "    }\n",
       "\n",
       "    .dataframe tbody tr th {\n",
       "        vertical-align: top;\n",
       "    }\n",
       "\n",
       "    .dataframe thead th {\n",
       "        text-align: right;\n",
       "    }\n",
       "</style>\n",
       "<table border=\"1\" class=\"dataframe\">\n",
       "  <thead>\n",
       "    <tr style=\"text-align: right;\">\n",
       "      <th></th>\n",
       "      <th>Year</th>\n",
       "      <th>RS</th>\n",
       "      <th>RA</th>\n",
       "      <th>W</th>\n",
       "      <th>OBP</th>\n",
       "      <th>SLG</th>\n",
       "      <th>BA</th>\n",
       "      <th>Playoffs</th>\n",
       "      <th>RankSeason</th>\n",
       "      <th>RankPlayoffs</th>\n",
       "      <th>G</th>\n",
       "      <th>OOBP</th>\n",
       "      <th>OSLG</th>\n",
       "      <th>RD</th>\n",
       "    </tr>\n",
       "  </thead>\n",
       "  <tbody>\n",
       "    <tr>\n",
       "      <th>Year</th>\n",
       "      <td>1.000000e+00</td>\n",
       "      <td>0.485502</td>\n",
       "      <td>0.483072</td>\n",
       "      <td>0.002756</td>\n",
       "      <td>0.474799</td>\n",
       "      <td>0.517828</td>\n",
       "      <td>0.438729</td>\n",
       "      <td>0.113014</td>\n",
       "      <td>0.415645</td>\n",
       "      <td>0.426403</td>\n",
       "      <td>-0.027085</td>\n",
       "      <td>-0.335533</td>\n",
       "      <td>-0.122668</td>\n",
       "      <td>-4.316055e-19</td>\n",
       "    </tr>\n",
       "    <tr>\n",
       "      <th>RS</th>\n",
       "      <td>4.855023e-01</td>\n",
       "      <td>1.000000</td>\n",
       "      <td>0.415014</td>\n",
       "      <td>0.507382</td>\n",
       "      <td>0.904909</td>\n",
       "      <td>0.926384</td>\n",
       "      <td>0.831625</td>\n",
       "      <td>0.371631</td>\n",
       "      <td>0.135743</td>\n",
       "      <td>0.323624</td>\n",
       "      <td>0.056206</td>\n",
       "      <td>0.091057</td>\n",
       "      <td>0.039787</td>\n",
       "      <td>5.375395e-01</td>\n",
       "    </tr>\n",
       "    <tr>\n",
       "      <th>RA</th>\n",
       "      <td>4.830717e-01</td>\n",
       "      <td>0.415014</td>\n",
       "      <td>1.000000</td>\n",
       "      <td>-0.507772</td>\n",
       "      <td>0.367105</td>\n",
       "      <td>0.459514</td>\n",
       "      <td>0.350411</td>\n",
       "      <td>-0.241213</td>\n",
       "      <td>0.539387</td>\n",
       "      <td>0.382416</td>\n",
       "      <td>-0.037402</td>\n",
       "      <td>0.909908</td>\n",
       "      <td>0.895110</td>\n",
       "      <td>-5.441052e-01</td>\n",
       "    </tr>\n",
       "    <tr>\n",
       "      <th>W</th>\n",
       "      <td>2.755645e-03</td>\n",
       "      <td>0.507382</td>\n",
       "      <td>-0.507772</td>\n",
       "      <td>1.000000</td>\n",
       "      <td>0.474080</td>\n",
       "      <td>0.405972</td>\n",
       "      <td>0.416391</td>\n",
       "      <td>0.588978</td>\n",
       "      <td>-0.747960</td>\n",
       "      <td>-0.235038</td>\n",
       "      <td>0.108128</td>\n",
       "      <td>-0.633657</td>\n",
       "      <td>-0.646920</td>\n",
       "      <td>9.385150e-01</td>\n",
       "    </tr>\n",
       "    <tr>\n",
       "      <th>OBP</th>\n",
       "      <td>4.747989e-01</td>\n",
       "      <td>0.904909</td>\n",
       "      <td>0.367105</td>\n",
       "      <td>0.474080</td>\n",
       "      <td>1.000000</td>\n",
       "      <td>0.806154</td>\n",
       "      <td>0.854055</td>\n",
       "      <td>0.345530</td>\n",
       "      <td>0.146153</td>\n",
       "      <td>0.300446</td>\n",
       "      <td>-0.003827</td>\n",
       "      <td>0.052899</td>\n",
       "      <td>-0.008316</td>\n",
       "      <td>4.942505e-01</td>\n",
       "    </tr>\n",
       "    <tr>\n",
       "      <th>SLG</th>\n",
       "      <td>5.178276e-01</td>\n",
       "      <td>0.926384</td>\n",
       "      <td>0.459514</td>\n",
       "      <td>0.405972</td>\n",
       "      <td>0.806154</td>\n",
       "      <td>1.000000</td>\n",
       "      <td>0.814068</td>\n",
       "      <td>0.300191</td>\n",
       "      <td>0.217315</td>\n",
       "      <td>0.341013</td>\n",
       "      <td>0.012873</td>\n",
       "      <td>0.101632</td>\n",
       "      <td>0.080376</td>\n",
       "      <td>4.284077e-01</td>\n",
       "    </tr>\n",
       "    <tr>\n",
       "      <th>BA</th>\n",
       "      <td>4.387291e-01</td>\n",
       "      <td>0.831625</td>\n",
       "      <td>0.350411</td>\n",
       "      <td>0.416391</td>\n",
       "      <td>0.854055</td>\n",
       "      <td>0.814068</td>\n",
       "      <td>1.000000</td>\n",
       "      <td>0.278772</td>\n",
       "      <td>0.156881</td>\n",
       "      <td>0.229791</td>\n",
       "      <td>-0.001805</td>\n",
       "      <td>0.219021</td>\n",
       "      <td>0.231918</td>\n",
       "      <td>4.421417e-01</td>\n",
       "    </tr>\n",
       "    <tr>\n",
       "      <th>Playoffs</th>\n",
       "      <td>1.130136e-01</td>\n",
       "      <td>0.371631</td>\n",
       "      <td>-0.241213</td>\n",
       "      <td>0.588978</td>\n",
       "      <td>0.345530</td>\n",
       "      <td>0.300191</td>\n",
       "      <td>0.278772</td>\n",
       "      <td>1.000000</td>\n",
       "      <td>NaN</td>\n",
       "      <td>NaN</td>\n",
       "      <td>0.009831</td>\n",
       "      <td>-0.495725</td>\n",
       "      <td>-0.510097</td>\n",
       "      <td>5.662745e-01</td>\n",
       "    </tr>\n",
       "    <tr>\n",
       "      <th>RankSeason</th>\n",
       "      <td>4.156449e-01</td>\n",
       "      <td>0.135743</td>\n",
       "      <td>0.539387</td>\n",
       "      <td>-0.747960</td>\n",
       "      <td>0.146153</td>\n",
       "      <td>0.217315</td>\n",
       "      <td>0.156881</td>\n",
       "      <td>NaN</td>\n",
       "      <td>1.000000</td>\n",
       "      <td>0.352961</td>\n",
       "      <td>0.052870</td>\n",
       "      <td>0.141905</td>\n",
       "      <td>0.235886</td>\n",
       "      <td>-5.703690e-01</td>\n",
       "    </tr>\n",
       "    <tr>\n",
       "      <th>RankPlayoffs</th>\n",
       "      <td>4.264030e-01</td>\n",
       "      <td>0.323624</td>\n",
       "      <td>0.382416</td>\n",
       "      <td>-0.235038</td>\n",
       "      <td>0.300446</td>\n",
       "      <td>0.341013</td>\n",
       "      <td>0.229791</td>\n",
       "      <td>NaN</td>\n",
       "      <td>0.352961</td>\n",
       "      <td>1.000000</td>\n",
       "      <td>0.012394</td>\n",
       "      <td>0.299376</td>\n",
       "      <td>0.318576</td>\n",
       "      <td>-7.677988e-02</td>\n",
       "    </tr>\n",
       "    <tr>\n",
       "      <th>G</th>\n",
       "      <td>-2.708490e-02</td>\n",
       "      <td>0.056206</td>\n",
       "      <td>-0.037402</td>\n",
       "      <td>0.108128</td>\n",
       "      <td>-0.003827</td>\n",
       "      <td>0.012873</td>\n",
       "      <td>-0.001805</td>\n",
       "      <td>0.009831</td>\n",
       "      <td>0.052870</td>\n",
       "      <td>0.012394</td>\n",
       "      <td>1.000000</td>\n",
       "      <td>-0.100545</td>\n",
       "      <td>-0.045432</td>\n",
       "      <td>8.649718e-02</td>\n",
       "    </tr>\n",
       "    <tr>\n",
       "      <th>OOBP</th>\n",
       "      <td>-3.355334e-01</td>\n",
       "      <td>0.091057</td>\n",
       "      <td>0.909908</td>\n",
       "      <td>-0.633657</td>\n",
       "      <td>0.052899</td>\n",
       "      <td>0.101632</td>\n",
       "      <td>0.219021</td>\n",
       "      <td>-0.495725</td>\n",
       "      <td>0.141905</td>\n",
       "      <td>0.299376</td>\n",
       "      <td>-0.100545</td>\n",
       "      <td>1.000000</td>\n",
       "      <td>0.796526</td>\n",
       "      <td>-6.040766e-01</td>\n",
       "    </tr>\n",
       "    <tr>\n",
       "      <th>OSLG</th>\n",
       "      <td>-1.226680e-01</td>\n",
       "      <td>0.039787</td>\n",
       "      <td>0.895110</td>\n",
       "      <td>-0.646920</td>\n",
       "      <td>-0.008316</td>\n",
       "      <td>0.080376</td>\n",
       "      <td>0.231918</td>\n",
       "      <td>-0.510097</td>\n",
       "      <td>0.235886</td>\n",
       "      <td>0.318576</td>\n",
       "      <td>-0.045432</td>\n",
       "      <td>0.796526</td>\n",
       "      <td>1.000000</td>\n",
       "      <td>-6.302315e-01</td>\n",
       "    </tr>\n",
       "    <tr>\n",
       "      <th>RD</th>\n",
       "      <td>-4.316055e-19</td>\n",
       "      <td>0.537539</td>\n",
       "      <td>-0.544105</td>\n",
       "      <td>0.938515</td>\n",
       "      <td>0.494251</td>\n",
       "      <td>0.428408</td>\n",
       "      <td>0.442142</td>\n",
       "      <td>0.566274</td>\n",
       "      <td>-0.570369</td>\n",
       "      <td>-0.076780</td>\n",
       "      <td>0.086497</td>\n",
       "      <td>-0.604077</td>\n",
       "      <td>-0.630231</td>\n",
       "      <td>1.000000e+00</td>\n",
       "    </tr>\n",
       "  </tbody>\n",
       "</table>\n",
       "</div>"
      ],
      "text/plain": [
       "                      Year        RS  ...      OSLG            RD\n",
       "Year          1.000000e+00  0.485502  ... -0.122668 -4.316055e-19\n",
       "RS            4.855023e-01  1.000000  ...  0.039787  5.375395e-01\n",
       "RA            4.830717e-01  0.415014  ...  0.895110 -5.441052e-01\n",
       "W             2.755645e-03  0.507382  ... -0.646920  9.385150e-01\n",
       "OBP           4.747989e-01  0.904909  ... -0.008316  4.942505e-01\n",
       "SLG           5.178276e-01  0.926384  ...  0.080376  4.284077e-01\n",
       "BA            4.387291e-01  0.831625  ...  0.231918  4.421417e-01\n",
       "Playoffs      1.130136e-01  0.371631  ... -0.510097  5.662745e-01\n",
       "RankSeason    4.156449e-01  0.135743  ...  0.235886 -5.703690e-01\n",
       "RankPlayoffs  4.264030e-01  0.323624  ...  0.318576 -7.677988e-02\n",
       "G            -2.708490e-02  0.056206  ... -0.045432  8.649718e-02\n",
       "OOBP         -3.355334e-01  0.091057  ...  0.796526 -6.040766e-01\n",
       "OSLG         -1.226680e-01  0.039787  ...  1.000000 -6.302315e-01\n",
       "RD           -4.316055e-19  0.537539  ... -0.630231  1.000000e+00\n",
       "\n",
       "[14 rows x 14 columns]"
      ]
     },
     "execution_count": 27,
     "metadata": {
      "tags": []
     },
     "output_type": "execute_result"
    }
   ],
   "source": [
    "df1.corr()"
   ]
  },
  {
   "cell_type": "code",
   "execution_count": 0,
   "metadata": {
    "colab": {
     "base_uri": "https://localhost:8080/",
     "height": 286
    },
    "colab_type": "code",
    "executionInfo": {
     "elapsed": 1083,
     "status": "ok",
     "timestamp": 1571130757333,
     "user": {
      "displayName": "Mahesh Anand",
      "photoUrl": "https://lh3.googleusercontent.com/a-/AAuE7mDwRqsBffQmzXsc6rHxDVmepWB7mxD_zfhcK5E1=s64",
      "userId": "06788086636039591358"
     },
     "user_tz": -330
    },
    "id": "nbAcclv7J8j7",
    "outputId": "fc4b891c-02d3-448b-a4e6-412587bfcd50"
   },
   "outputs": [
    {
     "data": {
      "text/plain": [
       "<matplotlib.axes._subplots.AxesSubplot at 0x7f2f7dc36048>"
      ]
     },
     "execution_count": 8,
     "metadata": {
      "tags": []
     },
     "output_type": "execute_result"
    },
    {
     "data": {
      "image/png": "[encoded data removed]",
      "text/plain": [
       "<Figure size 432x288 with 1 Axes>"
      ]
     },
     "metadata": {
      "tags": []
     },
     "output_type": "display_data"
    }
   ],
   "source": [
    "#find insights regarding the distributions of the numerical variables\n",
    "df1['RS'].hist(bins=50)"
   ]
  },
  {
   "cell_type": "code",
   "execution_count": 0,
   "metadata": {
    "colab": {
     "base_uri": "https://localhost:8080/",
     "height": 286
    },
    "colab_type": "code",
    "executionInfo": {
     "elapsed": 1119,
     "status": "ok",
     "timestamp": 1571130774642,
     "user": {
      "displayName": "Mahesh Anand",
      "photoUrl": "https://lh3.googleusercontent.com/a-/AAuE7mDwRqsBffQmzXsc6rHxDVmepWB7mxD_zfhcK5E1=s64",
      "userId": "06788086636039591358"
     },
     "user_tz": -330
    },
    "id": "RjxX_6f8KPfm",
    "outputId": "dacde828-7833-4a98-ec89-46591d8512b0"
   },
   "outputs": [
    {
     "data": {
      "text/plain": [
       "<matplotlib.axes._subplots.AxesSubplot at 0x7f2f7a2ef278>"
      ]
     },
     "execution_count": 9,
     "metadata": {
      "tags": []
     },
     "output_type": "execute_result"
    },
    {
     "data": {
      "image/png": "[encoded data removed]",
      "text/plain": [
       "<Figure size 432x288 with 1 Axes>"
      ]
     },
     "metadata": {
      "tags": []
     },
     "output_type": "display_data"
    }
   ],
   "source": [
    "df1['RA'].hist(bins=50)"
   ]
  },
  {
   "cell_type": "code",
   "execution_count": 0,
   "metadata": {
    "colab": {
     "base_uri": "https://localhost:8080/",
     "height": 286
    },
    "colab_type": "code",
    "executionInfo": {
     "elapsed": 1086,
     "status": "ok",
     "timestamp": 1571130782367,
     "user": {
      "displayName": "Mahesh Anand",
      "photoUrl": "https://lh3.googleusercontent.com/a-/AAuE7mDwRqsBffQmzXsc6rHxDVmepWB7mxD_zfhcK5E1=s64",
      "userId": "06788086636039591358"
     },
     "user_tz": -330
    },
    "id": "JwwAVxatKavF",
    "outputId": "077f4d9e-a6c3-403d-c1ee-0e9a8983fb28"
   },
   "outputs": [
    {
     "data": {
      "text/plain": [
       "<matplotlib.axes._subplots.AxesSubplot at 0x7f2f7a23a518>"
      ]
     },
     "execution_count": 10,
     "metadata": {
      "tags": []
     },
     "output_type": "execute_result"
    },
    {
     "data": {
      "image/png": "[encoded data removed]",
      "text/plain": [
       "<Figure size 432x288 with 1 Axes>"
      ]
     },
     "metadata": {
      "tags": []
     },
     "output_type": "display_data"
    }
   ],
   "source": [
    "df1['OBP'].hist(bins=50)"
   ]
  },
  {
   "cell_type": "code",
   "execution_count": 0,
   "metadata": {
    "colab": {
     "base_uri": "https://localhost:8080/",
     "height": 286
    },
    "colab_type": "code",
    "executionInfo": {
     "elapsed": 1467,
     "status": "ok",
     "timestamp": 1571130787499,
     "user": {
      "displayName": "Mahesh Anand",
      "photoUrl": "https://lh3.googleusercontent.com/a-/AAuE7mDwRqsBffQmzXsc6rHxDVmepWB7mxD_zfhcK5E1=s64",
      "userId": "06788086636039591358"
     },
     "user_tz": -330
    },
    "id": "dKdagsE8KiJh",
    "outputId": "e39fff96-15a8-4744-e1f9-6d31cb17f60b"
   },
   "outputs": [
    {
     "data": {
      "text/plain": [
       "<matplotlib.axes._subplots.AxesSubplot at 0x7f2f7a17d7b8>"
      ]
     },
     "execution_count": 11,
     "metadata": {
      "tags": []
     },
     "output_type": "execute_result"
    },
    {
     "data": {
      "image/png": "[encoded data removed]",
      "text/plain": [
       "<Figure size 432x288 with 1 Axes>"
      ]
     },
     "metadata": {
      "tags": []
     },
     "output_type": "display_data"
    }
   ],
   "source": [
    "df1['SLG'].hist(bins=50)"
   ]
  },
  {
   "cell_type": "code",
   "execution_count": 0,
   "metadata": {
    "colab": {},
    "colab_type": "code",
    "id": "NGkpZBbWNlYD"
   },
   "outputs": [],
   "source": [
    "df_playoff=df1.groupby('Playoffs')\n",
    "df_playoff_0=df_playoff.get_group(0)\n",
    "df_playoff_1=df_playoff.get_group(1)\n"
   ]
  },
  {
   "cell_type": "code",
   "execution_count": 0,
   "metadata": {
    "colab": {
     "base_uri": "https://localhost:8080/",
     "height": 300
    },
    "colab_type": "code",
    "executionInfo": {
     "elapsed": 1313,
     "status": "ok",
     "timestamp": 1571131141446,
     "user": {
      "displayName": "Mahesh Anand",
      "photoUrl": "https://lh3.googleusercontent.com/a-/AAuE7mDwRqsBffQmzXsc6rHxDVmepWB7mxD_zfhcK5E1=s64",
      "userId": "06788086636039591358"
     },
     "user_tz": -330
    },
    "id": "uIrC3SsJNEoh",
    "outputId": "1fa22813-2563-47f4-ba6a-f0b65327e356"
   },
   "outputs": [
    {
     "data": {
      "text/plain": [
       "<matplotlib.lines.Line2D at 0x7f2f79df0710>"
      ]
     },
     "execution_count": 15,
     "metadata": {
      "tags": []
     },
     "output_type": "execute_result"
    },
    {
     "data": {
      "image/png": "[encoded data removed]",
      "text/plain": [
       "<Figure size 432x288 with 1 Axes>"
      ]
     },
     "metadata": {
      "tags": []
     },
     "output_type": "display_data"
    }
   ],
   "source": [
    "# Plotting scatterplotplt.\n",
    "#figure(figsize=(10,8))\n",
    "plt.scatter(x=df_playoff_0.W,y = df_playoff_0.RS,c=\"red\")\n",
    "plt.scatter(x=df_playoff_1.W,y = df_playoff_1.RS,c=\"blue\")\n",
    "plt.xlabel(\"Wins\")\n",
    "plt.ylabel(\"Runs Scored\")\n",
    "plt.axvline(x = 100)"
   ]
  },
  {
   "cell_type": "markdown",
   "metadata": {
    "colab_type": "text",
    "id": "P7XuTq6YP3aY"
   },
   "source": [
    "From the above plot we see that DePodesta’s estimate of 99 wins makes sense since there appears to be only 3 observations (red) who haven’t made it to the playoffs with ≥ 99 wins."
   ]
  },
  {
   "cell_type": "markdown",
   "metadata": {
    "colab_type": "text",
    "id": "wVyaEeClP55X"
   },
   "source": [
    "DePodesta also calculated that the A’s need to score atleast 814 runs and allow only 645 runs in order to make it to the postseason. That meant that the difference between runs scored and runs allowed needed to be approximately 169(RD). Let us look at the relationship between RD and Wins."
   ]
  },
  {
   "cell_type": "code",
   "execution_count": 0,
   "metadata": {
    "colab": {
     "base_uri": "https://localhost:8080/",
     "height": 295
    },
    "colab_type": "code",
    "executionInfo": {
     "elapsed": 1319,
     "status": "ok",
     "timestamp": 1571131634338,
     "user": {
      "displayName": "Mahesh Anand",
      "photoUrl": "https://lh3.googleusercontent.com/a-/AAuE7mDwRqsBffQmzXsc6rHxDVmepWB7mxD_zfhcK5E1=s64",
      "userId": "06788086636039591358"
     },
     "user_tz": -330
    },
    "id": "2n51K__PMgh4",
    "outputId": "028b101e-61ae-41de-8897-bbd35a06b9c4"
   },
   "outputs": [
    {
     "data": {
      "image/png": "[encoded data removed]",
      "text/plain": [
       "<Figure size 432x288 with 1 Axes>"
      ]
     },
     "metadata": {
      "tags": []
     },
     "output_type": "display_data"
    }
   ],
   "source": [
    "#figure(figsize=(10,8))\n",
    "x = np.array(df1.RD)\n",
    "y = np.array(df1.W)# Deriving slope,intercept values\n",
    "slope, intercept = np.polyfit(x, y, 1)\n",
    "abline_values = [slope * i + intercept for i in x]#Plotting the figureplt.figure(figsize=(10,8))\n",
    "plt.scatter(x, y)\n",
    "plt.plot(x, abline_values, 'b')\n",
    "plt.title(\"Slope = %s\" % (slope))\n",
    "plt.xlabel(\"Run Difference\")\n",
    "plt.ylabel(\"Wins\")\n",
    "plt.show()"
   ]
  },
  {
   "cell_type": "code",
   "execution_count": 0,
   "metadata": {
    "colab": {
     "base_uri": "https://localhost:8080/",
     "height": 50
    },
    "colab_type": "code",
    "executionInfo": {
     "elapsed": 1051,
     "status": "ok",
     "timestamp": 1571131873984,
     "user": {
      "displayName": "Mahesh Anand",
      "photoUrl": "https://lh3.googleusercontent.com/a-/AAuE7mDwRqsBffQmzXsc6rHxDVmepWB7mxD_zfhcK5E1=s64",
      "userId": "06788086636039591358"
     },
     "user_tz": -330
    },
    "id": "NZk5F1QOQwBF",
    "outputId": "b297b3ba-8515-4111-a159-3e075024d153"
   },
   "outputs": [
    {
     "name": "stdout",
     "output_type": "stream",
     "text": [
      "[[1.         0.93851498]\n",
      " [0.93851498 1.        ]]\n"
     ]
    }
   ],
   "source": [
    "print(np.corrcoef(x,y))"
   ]
  },
  {
   "cell_type": "code",
   "execution_count": 0,
   "metadata": {
    "colab": {},
    "colab_type": "code",
    "id": "X52crgXGQ0EL"
   },
   "outputs": [],
   "source": [
    "#https://en.wikipedia.org/wiki/On-base_percentage\n",
    "#Batting Average = Hits/At Bat"
   ]
  },
  {
   "cell_type": "markdown",
   "metadata": {
    "colab_type": "text",
    "id": "rarihlekSAQG"
   },
   "source": [
    "OBP, SLG and AVG are strong indicators of runs scored by the particular team.\n",
    "Let us validate these assumptions by plotting the relationship between each of these variables with RS(Runs scored)"
   ]
  },
  {
   "cell_type": "code",
   "execution_count": 0,
   "metadata": {
    "colab": {
     "base_uri": "https://localhost:8080/",
     "height": 513
    },
    "colab_type": "code",
    "executionInfo": {
     "elapsed": 1532,
     "status": "ok",
     "timestamp": 1571073684945,
     "user": {
      "displayName": "Mahesh Anand",
      "photoUrl": "https://lh3.googleusercontent.com/a-/AAuE7mDwRqsBffQmzXsc6rHxDVmepWB7mxD_zfhcK5E1=s64",
      "userId": "06788086636039591358"
     },
     "user_tz": -330
    },
    "id": "hM_euchWSE1C",
    "outputId": "d7fb8c30-c11b-4d95-d157-14c0f80d5025"
   },
   "outputs": [
    {
     "data": {
      "image/png": "[encoded data removed]",
      "text/plain": [
       "<Figure size 720x576 with 1 Axes>"
      ]
     },
     "metadata": {
      "tags": []
     },
     "output_type": "display_data"
    }
   ],
   "source": [
    "figure(figsize=(10,8))\n",
    "x = np.array(df1.OBP)\n",
    "y = np.array(df1.RS)# Deriving slope,intercept values\n",
    "slope, intercept = np.polyfit(x, y, 1)\n",
    "abline_values = [slope * i + intercept for i in x]#Plotting the figureplt.figure(figsize=(10,8))\n",
    "plt.scatter(x, y)\n",
    "plt.plot(x, abline_values, 'b')\n",
    "plt.title(\"Slope = %s\" % (slope))\n",
    "plt.xlabel(\"On Base Percentage\")\n",
    "plt.ylabel(\"Runs Scored\")\n",
    "plt.show()"
   ]
  },
  {
   "cell_type": "code",
   "execution_count": 0,
   "metadata": {
    "colab": {
     "base_uri": "https://localhost:8080/",
     "height": 513
    },
    "colab_type": "code",
    "executionInfo": {
     "elapsed": 2087,
     "status": "ok",
     "timestamp": 1571073742918,
     "user": {
      "displayName": "Mahesh Anand",
      "photoUrl": "https://lh3.googleusercontent.com/a-/AAuE7mDwRqsBffQmzXsc6rHxDVmepWB7mxD_zfhcK5E1=s64",
      "userId": "06788086636039591358"
     },
     "user_tz": -330
    },
    "id": "v35umEomRppj",
    "outputId": "b1e60936-a9cc-41b7-c7dd-6f9cf9f0f5c7"
   },
   "outputs": [
    {
     "data": {
      "image/png": "[encoded data removed]",
      "text/plain": [
       "<Figure size 720x576 with 1 Axes>"
      ]
     },
     "metadata": {
      "tags": []
     },
     "output_type": "display_data"
    }
   ],
   "source": [
    "figure(figsize=(10,8))\n",
    "x = np.array(df1.SLG)\n",
    "y = np.array(df1.RS)# Deriving slope,intercept values\n",
    "slope, intercept = np.polyfit(x, y, 1)\n",
    "abline_values = [slope * i + intercept for i in x]#Plotting the figureplt.figure(figsize=(10,8))\n",
    "plt.scatter(x, y)\n",
    "plt.plot(x, abline_values, 'b')\n",
    "plt.title(\"Slope = %s\" % (slope))\n",
    "plt.xlabel(\"Slugging Percentage\")\n",
    "plt.ylabel(\"Runs Scored\")\n",
    "plt.show()"
   ]
  },
  {
   "cell_type": "code",
   "execution_count": 0,
   "metadata": {
    "colab": {
     "base_uri": "https://localhost:8080/",
     "height": 513
    },
    "colab_type": "code",
    "executionInfo": {
     "elapsed": 1767,
     "status": "ok",
     "timestamp": 1571073816714,
     "user": {
      "displayName": "Mahesh Anand",
      "photoUrl": "https://lh3.googleusercontent.com/a-/AAuE7mDwRqsBffQmzXsc6rHxDVmepWB7mxD_zfhcK5E1=s64",
      "userId": "06788086636039591358"
     },
     "user_tz": -330
    },
    "id": "nomGlVioSupl",
    "outputId": "a43ead76-abec-4702-8087-a083d908638a"
   },
   "outputs": [
    {
     "data": {
      "image/png": "[encoded data removed]",
      "text/plain": [
       "<Figure size 720x576 with 1 Axes>"
      ]
     },
     "metadata": {
      "tags": []
     },
     "output_type": "display_data"
    }
   ],
   "source": [
    "figure(figsize=(10,8))\n",
    "x = np.array(df1.BA)\n",
    "y = np.array(df1.RS)# Deriving slope,intercept values\n",
    "slope, intercept = np.polyfit(x, y, 1)\n",
    "abline_values = [slope * i + intercept for i in x]#Plotting the figureplt.figure(figsize=(10,8))\n",
    "plt.scatter(x, y)\n",
    "plt.plot(x, abline_values, 'b')\n",
    "plt.title(\"Slope = %s\" % (slope))\n",
    "plt.xlabel(\"Batting Average\")\n",
    "plt.ylabel(\"Runs Scored\")\n",
    "plt.show()"
   ]
  },
  {
   "cell_type": "code",
   "execution_count": 0,
   "metadata": {
    "colab": {
     "base_uri": "https://localhost:8080/",
     "height": 53
    },
    "colab_type": "code",
    "executionInfo": {
     "elapsed": 1135,
     "status": "ok",
     "timestamp": 1571073869986,
     "user": {
      "displayName": "Mahesh Anand",
      "photoUrl": "https://lh3.googleusercontent.com/a-/AAuE7mDwRqsBffQmzXsc6rHxDVmepWB7mxD_zfhcK5E1=s64",
      "userId": "06788086636039591358"
     },
     "user_tz": -330
    },
    "id": "JuGkDtjoTIpn",
    "outputId": "1b48b672-d8ad-422a-ad31-ffc5200e67ae"
   },
   "outputs": [
    {
     "name": "stdout",
     "output_type": "stream",
     "text": [
      "[[1.         0.90490915]\n",
      " [0.90490915 1.        ]]\n"
     ]
    }
   ],
   "source": [
    "print(np.corrcoef(df1.OBP,df1.RS))"
   ]
  },
  {
   "cell_type": "code",
   "execution_count": 0,
   "metadata": {
    "colab": {
     "base_uri": "https://localhost:8080/",
     "height": 53
    },
    "colab_type": "code",
    "executionInfo": {
     "elapsed": 1143,
     "status": "ok",
     "timestamp": 1571073893923,
     "user": {
      "displayName": "Mahesh Anand",
      "photoUrl": "https://lh3.googleusercontent.com/a-/AAuE7mDwRqsBffQmzXsc6rHxDVmepWB7mxD_zfhcK5E1=s64",
      "userId": "06788086636039591358"
     },
     "user_tz": -330
    },
    "id": "TFuj9OJQTNG8",
    "outputId": "b37b21bd-aa41-48db-a1a5-a41c29fc2c85"
   },
   "outputs": [
    {
     "name": "stdout",
     "output_type": "stream",
     "text": [
      "[[1.         0.92638433]\n",
      " [0.92638433 1.        ]]\n"
     ]
    }
   ],
   "source": [
    "print(np.corrcoef(df1.SLG,df1.RS))"
   ]
  },
  {
   "cell_type": "code",
   "execution_count": 0,
   "metadata": {
    "colab": {
     "base_uri": "https://localhost:8080/",
     "height": 53
    },
    "colab_type": "code",
    "executionInfo": {
     "elapsed": 1316,
     "status": "ok",
     "timestamp": 1571073904751,
     "user": {
      "displayName": "Mahesh Anand",
      "photoUrl": "https://lh3.googleusercontent.com/a-/AAuE7mDwRqsBffQmzXsc6rHxDVmepWB7mxD_zfhcK5E1=s64",
      "userId": "06788086636039591358"
     },
     "user_tz": -330
    },
    "id": "czB03lpSTTCd",
    "outputId": "862bbb51-f37b-4b97-ea81-65d7c6176b83"
   },
   "outputs": [
    {
     "name": "stdout",
     "output_type": "stream",
     "text": [
      "[[1.         0.83162475]\n",
      " [0.83162475 1.        ]]\n"
     ]
    }
   ],
   "source": [
    "print(np.corrcoef(df1.BA,df1.RS))"
   ]
  },
  {
   "cell_type": "markdown",
   "metadata": {
    "colab_type": "text",
    "id": "P6pTqEg4TgEq"
   },
   "source": [
    "Similarly, we can hypothesise that OOBP(Opponent’s OBP) and OSLG(Opponent’s SLG) have a similar relationship with RA(Runs allowed)."
   ]
  },
  {
   "cell_type": "markdown",
   "metadata": {
    "colab_type": "text",
    "id": "c5W2c047Wd7E"
   },
   "source": [
    "DATA CLEANING: There are a few missing values in the OOBP and OSLG columns. We have to remove these rows of observations in order to plot a proper relationship"
   ]
  },
  {
   "cell_type": "code",
   "execution_count": 0,
   "metadata": {
    "colab": {
     "base_uri": "https://localhost:8080/",
     "height": 138
    },
    "colab_type": "code",
    "executionInfo": {
     "elapsed": 2429,
     "status": "ok",
     "timestamp": 1571138373201,
     "user": {
      "displayName": "Mahesh Anand",
      "photoUrl": "https://lh3.googleusercontent.com/a-/AAuE7mDwRqsBffQmzXsc6rHxDVmepWB7mxD_zfhcK5E1=s64",
      "userId": "06788086636039591358"
     },
     "user_tz": -330
    },
    "id": "aRI-V64b6WJw",
    "outputId": "a7bba18c-eeb9-46c0-a21c-8215b6e153fe"
   },
   "outputs": [
    {
     "name": "stderr",
     "output_type": "stream",
     "text": [
      "/usr/local/lib/python3.6/dist-packages/ipykernel_launcher.py:2: SettingWithCopyWarning: \n",
      "A value is trying to be set on a copy of a slice from a DataFrame.\n",
      "Try using .loc[row_indexer,col_indexer] = value instead\n",
      "\n",
      "See the caveats in the documentation: http://pandas.pydata.org/pandas-docs/stable/indexing.html#indexing-view-versus-copy\n",
      "  \n"
     ]
    }
   ],
   "source": [
    "for col in df1.columns:\n",
    "  df1[col]=df1[col].fillna(df1[col].dropna().sample().iloc[0])\n",
    "\n",
    "#df2=df1.dropna()\n",
    "#df2.shape\n",
    "\n"
   ]
  },
  {
   "cell_type": "markdown",
   "metadata": {
    "colab_type": "text",
    "id": "YYjwa2y-ZLMB"
   },
   "source": [
    "Our first model is used to predict ‘runs scored’. Our independent variables as on-base percentage, slugging percentage, batting average."
   ]
  },
  {
   "cell_type": "code",
   "execution_count": 0,
   "metadata": {
    "colab": {
     "base_uri": "https://localhost:8080/",
     "height": 50
    },
    "colab_type": "code",
    "executionInfo": {
     "elapsed": 1032,
     "status": "ok",
     "timestamp": 1571138683605,
     "user": {
      "displayName": "Mahesh Anand",
      "photoUrl": "https://lh3.googleusercontent.com/a-/AAuE7mDwRqsBffQmzXsc6rHxDVmepWB7mxD_zfhcK5E1=s64",
      "userId": "06788086636039591358"
     },
     "user_tz": -330
    },
    "id": "-FFYzYR0ZFnG",
    "outputId": "13f3c368-147d-44e4-bb1e-a9f48c18ef04"
   },
   "outputs": [
    {
     "name": "stdout",
     "output_type": "stream",
     "text": [
      "[-804.62706106]\n",
      "[[2737.76802227 1584.90860546]]\n"
     ]
    }
   ],
   "source": [
    "from sklearn.linear_model import LinearRegression\n",
    "# Extracting our variables from the dataframe.\n",
    "x = df1[['OBP','SLG']].values\n",
    "y = df1[['RS']].values# Calling our model object.\n",
    "RS_model = LinearRegression()# Fitting the model.\n",
    "RS_model.fit(x,y)\n",
    "# Printing model intercept and coefficients.\n",
    "print(RS_model.intercept_)\n",
    "print(RS_model.coef_)"
   ]
  },
  {
   "cell_type": "code",
   "execution_count": 0,
   "metadata": {
    "colab": {
     "base_uri": "https://localhost:8080/",
     "height": 34
    },
    "colab_type": "code",
    "executionInfo": {
     "elapsed": 1027,
     "status": "ok",
     "timestamp": 1571138484727,
     "user": {
      "displayName": "Mahesh Anand",
      "photoUrl": "https://lh3.googleusercontent.com/a-/AAuE7mDwRqsBffQmzXsc6rHxDVmepWB7mxD_zfhcK5E1=s64",
      "userId": "06788086636039591358"
     },
     "user_tz": -330
    },
    "id": "UtSHFDJ3HgDD",
    "outputId": "a3ce0dc1-c488-4e86-837a-fbcefe662529"
   },
   "outputs": [
    {
     "data": {
      "text/plain": [
       "(902, 2)"
      ]
     },
     "execution_count": 124,
     "metadata": {
      "tags": []
     },
     "output_type": "execute_result"
    }
   ],
   "source": [
    "x.shape"
   ]
  },
  {
   "cell_type": "code",
   "execution_count": 0,
   "metadata": {
    "colab": {},
    "colab_type": "code",
    "id": "kFKGqJpmGoEu"
   },
   "outputs": [],
   "source": [
    "#rs_pred=RS_model.predict(x)\n"
   ]
  },
  {
   "cell_type": "code",
   "execution_count": 0,
   "metadata": {
    "colab": {
     "base_uri": "https://localhost:8080/",
     "height": 34
    },
    "colab_type": "code",
    "executionInfo": {
     "elapsed": 1036,
     "status": "ok",
     "timestamp": 1571138622546,
     "user": {
      "displayName": "Mahesh Anand",
      "photoUrl": "https://lh3.googleusercontent.com/a-/AAuE7mDwRqsBffQmzXsc6rHxDVmepWB7mxD_zfhcK5E1=s64",
      "userId": "06788086636039591358"
     },
     "user_tz": -330
    },
    "id": "7Z-Dm83THlOC",
    "outputId": "b4d8864f-b584-4ef3-96f0-55df38daa827"
   },
   "outputs": [
    {
     "data": {
      "text/plain": [
       "0.9302016258786281"
      ]
     },
     "execution_count": 127,
     "metadata": {
      "tags": []
     },
     "output_type": "execute_result"
    }
   ],
   "source": [
    "RS_model.score(x,y)"
   ]
  },
  {
   "cell_type": "markdown",
   "metadata": {
    "colab_type": "text",
    "id": "3B_QmN9SaSdP"
   },
   "source": [
    "Thus, our model is of the following form:\n",
    "\n",
    "RS = -804.63+2737.77×(OBP)+1584.91×(SLG)"
   ]
  },
  {
   "cell_type": "markdown",
   "metadata": {
    "colab_type": "text",
    "id": "xAy7HRkWa9lq"
   },
   "source": [
    "Similarly, we build a model for ‘runs allowed’ using opponent’s on-base percentage and opponent’s slugging percentage as independent variables:"
   ]
  },
  {
   "cell_type": "code",
   "execution_count": 0,
   "metadata": {
    "colab": {
     "base_uri": "https://localhost:8080/",
     "height": 50
    },
    "colab_type": "code",
    "executionInfo": {
     "elapsed": 1042,
     "status": "ok",
     "timestamp": 1571138629800,
     "user": {
      "displayName": "Mahesh Anand",
      "photoUrl": "https://lh3.googleusercontent.com/a-/AAuE7mDwRqsBffQmzXsc6rHxDVmepWB7mxD_zfhcK5E1=s64",
      "userId": "06788086636039591358"
     },
     "user_tz": -330
    },
    "id": "cYB6Pxmpa_ib",
    "outputId": "6ac922da-9300-4625-91a5-dbd68b807bcb"
   },
   "outputs": [
    {
     "name": "stdout",
     "output_type": "stream",
     "text": [
      "[-792.81778747]\n",
      "[[1679.05338093 2375.3820013 ]]\n"
     ]
    }
   ],
   "source": [
    "# Extracting our variables from the dataframe.\n",
    "x = df1[['OOBP','OSLG']].values\n",
    "y = df1[['RA']].values# Calling our model object.\n",
    "RA_model = LinearRegression()# Fitting the model.\n",
    "RA_model.fit(x,y)# Printing model intercept and coefficients.\n",
    "print(RA_model.intercept_)\n",
    "print(RA_model.coef_)"
   ]
  },
  {
   "cell_type": "code",
   "execution_count": 0,
   "metadata": {
    "colab": {
     "base_uri": "https://localhost:8080/",
     "height": 34
    },
    "colab_type": "code",
    "executionInfo": {
     "elapsed": 1021,
     "status": "ok",
     "timestamp": 1571138470058,
     "user": {
      "displayName": "Mahesh Anand",
      "photoUrl": "https://lh3.googleusercontent.com/a-/AAuE7mDwRqsBffQmzXsc6rHxDVmepWB7mxD_zfhcK5E1=s64",
      "userId": "06788086636039591358"
     },
     "user_tz": -330
    },
    "id": "IC1GvPxPIcha",
    "outputId": "4fd5b11e-1976-4baf-d430-5634ed993c85"
   },
   "outputs": [
    {
     "data": {
      "text/plain": [
       "0.20976917502464643"
      ]
     },
     "execution_count": 122,
     "metadata": {
      "tags": []
     },
     "output_type": "execute_result"
    }
   ],
   "source": [
    "RA_model.score(x,y)"
   ]
  },
  {
   "cell_type": "markdown",
   "metadata": {
    "colab_type": "text",
    "id": "kLi3w1QIbvgF"
   },
   "source": [
    "model for predicting wins from runs difference:"
   ]
  },
  {
   "cell_type": "code",
   "execution_count": 0,
   "metadata": {
    "colab": {
     "base_uri": "https://localhost:8080/",
     "height": 50
    },
    "colab_type": "code",
    "executionInfo": {
     "elapsed": 1111,
     "status": "ok",
     "timestamp": 1571138637291,
     "user": {
      "displayName": "Mahesh Anand",
      "photoUrl": "https://lh3.googleusercontent.com/a-/AAuE7mDwRqsBffQmzXsc6rHxDVmepWB7mxD_zfhcK5E1=s64",
      "userId": "06788086636039591358"
     },
     "user_tz": -330
    },
    "id": "YJkEIsmLbw5s",
    "outputId": "aa4a518a-76dd-4664-9bbe-9c0c881b652d"
   },
   "outputs": [
    {
     "name": "stdout",
     "output_type": "stream",
     "text": [
      "[80.88137472]\n",
      "[[0.10576562]]\n"
     ]
    }
   ],
   "source": [
    "# Extracting our variables from the dataframe.\n",
    "x = df1[['RD']].values\n",
    "y = df1[['W']].values# Calling our model object.\n",
    "W_model = LinearRegression()# Fitting the model.\n",
    "W_model.fit(x,y)# Printing model intercept and coefficients.\n",
    "print(W_model.intercept_)\n",
    "print(W_model.coef_)"
   ]
  },
  {
   "cell_type": "code",
   "execution_count": 0,
   "metadata": {
    "colab": {
     "base_uri": "https://localhost:8080/",
     "height": 34
    },
    "colab_type": "code",
    "executionInfo": {
     "elapsed": 1035,
     "status": "ok",
     "timestamp": 1571138431671,
     "user": {
      "displayName": "Mahesh Anand",
      "photoUrl": "https://lh3.googleusercontent.com/a-/AAuE7mDwRqsBffQmzXsc6rHxDVmepWB7mxD_zfhcK5E1=s64",
      "userId": "06788086636039591358"
     },
     "user_tz": -330
    },
    "id": "pNUaK2OWIivM",
    "outputId": "9577e3b9-3301-4d29-ed4b-5efdb5bfbd9e"
   },
   "outputs": [
    {
     "data": {
      "text/plain": [
       "0.8808103719972755"
      ]
     },
     "execution_count": 120,
     "metadata": {
      "tags": []
     },
     "output_type": "execute_result"
    }
   ],
   "source": [
    "W_model.score(x,y)"
   ]
  },
  {
   "cell_type": "markdown",
   "metadata": {
    "colab_type": "text",
    "id": "DZjntiq2cdDh"
   },
   "source": [
    "Model Predictions\n",
    "\n",
    "Here are the Oakland Athletics statistics in 2001 before the playoffs.\n",
    "\n",
    "OBP: 0.339\n",
    "\n",
    "SLG: 0.430\n",
    "\n",
    "OOBP: 0.307\n",
    "\n",
    "OSLG: 0.373\n",
    "Lets plug in these values into the above models to generate predictions."
   ]
  },
  {
   "cell_type": "code",
   "execution_count": 0,
   "metadata": {
    "colab": {
     "base_uri": "https://localhost:8080/",
     "height": 303
    },
    "colab_type": "code",
    "executionInfo": {
     "elapsed": 1224,
     "status": "error",
     "timestamp": 1571138643216,
     "user": {
      "displayName": "Mahesh Anand",
      "photoUrl": "https://lh3.googleusercontent.com/a-/AAuE7mDwRqsBffQmzXsc6rHxDVmepWB7mxD_zfhcK5E1=s64",
      "userId": "06788086636039591358"
     },
     "user_tz": -330
    },
    "id": "v2bR0Edccjkg",
    "outputId": "98433dbe-b18b-4caa-c684-f0c8997042f9"
   },
   "outputs": [
    {
     "ename": "ValueError",
     "evalue": "ignored",
     "output_type": "error",
     "traceback": [
      "\u001b[0;31m---------------------------------------------------------------------------\u001b[0m",
      "\u001b[0;31mValueError\u001b[0m                                Traceback (most recent call last)",
      "\u001b[0;32m<ipython-input-130-4e6e9c91d8a3>\u001b[0m in \u001b[0;36m<module>\u001b[0;34m()\u001b[0m\n\u001b[0;32m----> 1\u001b[0;31m \u001b[0mRS_model\u001b[0m\u001b[0;34m.\u001b[0m\u001b[0mpredict\u001b[0m\u001b[0;34m(\u001b[0m\u001b[0;34m[\u001b[0m\u001b[0;34m[\u001b[0m\u001b[0;36m0.339\u001b[0m\u001b[0;34m,\u001b[0m\u001b[0;36m0.430\u001b[0m\u001b[0;34m]\u001b[0m\u001b[0;34m]\u001b[0m\u001b[0;34m)\u001b[0m\u001b[0;34m\u001b[0m\u001b[0;34m\u001b[0m\u001b[0m\n\u001b[0m",
      "\u001b[0;32m/usr/local/lib/python3.6/dist-packages/sklearn/linear_model/base.py\u001b[0m in \u001b[0;36mpredict\u001b[0;34m(self, X)\u001b[0m\n\u001b[1;32m    219\u001b[0m             \u001b[0mReturns\u001b[0m \u001b[0mpredicted\u001b[0m \u001b[0mvalues\u001b[0m\u001b[0;34m.\u001b[0m\u001b[0;34m\u001b[0m\u001b[0;34m\u001b[0m\u001b[0m\n\u001b[1;32m    220\u001b[0m         \"\"\"\n\u001b[0;32m--> 221\u001b[0;31m         \u001b[0;32mreturn\u001b[0m \u001b[0mself\u001b[0m\u001b[0;34m.\u001b[0m\u001b[0m_decision_function\u001b[0m\u001b[0;34m(\u001b[0m\u001b[0mX\u001b[0m\u001b[0;34m)\u001b[0m\u001b[0;34m\u001b[0m\u001b[0;34m\u001b[0m\u001b[0m\n\u001b[0m\u001b[1;32m    222\u001b[0m \u001b[0;34m\u001b[0m\u001b[0m\n\u001b[1;32m    223\u001b[0m     \u001b[0m_preprocess_data\u001b[0m \u001b[0;34m=\u001b[0m \u001b[0mstaticmethod\u001b[0m\u001b[0;34m(\u001b[0m\u001b[0m_preprocess_data\u001b[0m\u001b[0;34m)\u001b[0m\u001b[0;34m\u001b[0m\u001b[0;34m\u001b[0m\u001b[0m\n",
      "\u001b[0;32m/usr/local/lib/python3.6/dist-packages/sklearn/linear_model/base.py\u001b[0m in \u001b[0;36m_decision_function\u001b[0;34m(self, X)\u001b[0m\n\u001b[1;32m    204\u001b[0m         \u001b[0mX\u001b[0m \u001b[0;34m=\u001b[0m \u001b[0mcheck_array\u001b[0m\u001b[0;34m(\u001b[0m\u001b[0mX\u001b[0m\u001b[0;34m,\u001b[0m \u001b[0maccept_sparse\u001b[0m\u001b[0;34m=\u001b[0m\u001b[0;34m[\u001b[0m\u001b[0;34m'csr'\u001b[0m\u001b[0;34m,\u001b[0m \u001b[0;34m'csc'\u001b[0m\u001b[0;34m,\u001b[0m \u001b[0;34m'coo'\u001b[0m\u001b[0;34m]\u001b[0m\u001b[0;34m)\u001b[0m\u001b[0;34m\u001b[0m\u001b[0;34m\u001b[0m\u001b[0m\n\u001b[1;32m    205\u001b[0m         return safe_sparse_dot(X, self.coef_.T,\n\u001b[0;32m--> 206\u001b[0;31m                                dense_output=True) + self.intercept_\n\u001b[0m\u001b[1;32m    207\u001b[0m \u001b[0;34m\u001b[0m\u001b[0m\n\u001b[1;32m    208\u001b[0m     \u001b[0;32mdef\u001b[0m \u001b[0mpredict\u001b[0m\u001b[0;34m(\u001b[0m\u001b[0mself\u001b[0m\u001b[0;34m,\u001b[0m \u001b[0mX\u001b[0m\u001b[0;34m)\u001b[0m\u001b[0;34m:\u001b[0m\u001b[0;34m\u001b[0m\u001b[0;34m\u001b[0m\u001b[0m\n",
      "\u001b[0;32m/usr/local/lib/python3.6/dist-packages/sklearn/utils/extmath.py\u001b[0m in \u001b[0;36msafe_sparse_dot\u001b[0;34m(a, b, dense_output)\u001b[0m\n\u001b[1;32m    140\u001b[0m         \u001b[0;32mreturn\u001b[0m \u001b[0mret\u001b[0m\u001b[0;34m\u001b[0m\u001b[0;34m\u001b[0m\u001b[0m\n\u001b[1;32m    141\u001b[0m     \u001b[0;32melse\u001b[0m\u001b[0;34m:\u001b[0m\u001b[0;34m\u001b[0m\u001b[0;34m\u001b[0m\u001b[0m\n\u001b[0;32m--> 142\u001b[0;31m         \u001b[0;32mreturn\u001b[0m \u001b[0mnp\u001b[0m\u001b[0;34m.\u001b[0m\u001b[0mdot\u001b[0m\u001b[0;34m(\u001b[0m\u001b[0ma\u001b[0m\u001b[0;34m,\u001b[0m \u001b[0mb\u001b[0m\u001b[0;34m)\u001b[0m\u001b[0;34m\u001b[0m\u001b[0;34m\u001b[0m\u001b[0m\n\u001b[0m\u001b[1;32m    143\u001b[0m \u001b[0;34m\u001b[0m\u001b[0m\n\u001b[1;32m    144\u001b[0m \u001b[0;34m\u001b[0m\u001b[0m\n",
      "\u001b[0;31mValueError\u001b[0m: shapes (1,2) and (3,1) not aligned: 2 (dim 1) != 3 (dim 0)"
     ]
    }
   ],
   "source": [
    "# Prediction for runs scored.\n",
    "RS_model.predict([[0.339,0.430]])\n"
   ]
  },
  {
   "cell_type": "code",
   "execution_count": 0,
   "metadata": {
    "colab": {
     "base_uri": "https://localhost:8080/",
     "height": 34
    },
    "colab_type": "code",
    "executionInfo": {
     "elapsed": 1030,
     "status": "ok",
     "timestamp": 1571137454442,
     "user": {
      "displayName": "Mahesh Anand",
      "photoUrl": "https://lh3.googleusercontent.com/a-/AAuE7mDwRqsBffQmzXsc6rHxDVmepWB7mxD_zfhcK5E1=s64",
      "userId": "06788086636039591358"
     },
     "user_tz": -330
    },
    "id": "lcy6sa-Mcetc",
    "outputId": "a02f2c62-1a90-4f60-82b6-edb0a57e5e96"
   },
   "outputs": [
    {
     "data": {
      "text/plain": [
       "array([[627.63977268]])"
      ]
     },
     "execution_count": 88,
     "metadata": {
      "tags": []
     },
     "output_type": "execute_result"
    }
   ],
   "source": [
    "RA_model.predict([[0.307,0.373]])\n"
   ]
  },
  {
   "cell_type": "code",
   "execution_count": 0,
   "metadata": {
    "colab": {
     "base_uri": "https://localhost:8080/",
     "height": 34
    },
    "colab_type": "code",
    "executionInfo": {
     "elapsed": 1045,
     "status": "ok",
     "timestamp": 1571137479052,
     "user": {
      "displayName": "Mahesh Anand",
      "photoUrl": "https://lh3.googleusercontent.com/a-/AAuE7mDwRqsBffQmzXsc6rHxDVmepWB7mxD_zfhcK5E1=s64",
      "userId": "06788086636039591358"
     },
     "user_tz": -330
    },
    "id": "xhZH3EUtdJvw",
    "outputId": "25fd17a4-ece8-49cf-f657-69bbf4237e60"
   },
   "outputs": [
    {
     "data": {
      "text/plain": [
       "174.80322616"
      ]
     },
     "execution_count": 89,
     "metadata": {
      "tags": []
     },
     "output_type": "execute_result"
    }
   ],
   "source": [
    "802.44299884-627.63977268"
   ]
  },
  {
   "cell_type": "code",
   "execution_count": 0,
   "metadata": {
    "colab": {
     "base_uri": "https://localhost:8080/",
     "height": 34
    },
    "colab_type": "code",
    "executionInfo": {
     "elapsed": 1055,
     "status": "ok",
     "timestamp": 1571137501516,
     "user": {
      "displayName": "Mahesh Anand",
      "photoUrl": "https://lh3.googleusercontent.com/a-/AAuE7mDwRqsBffQmzXsc6rHxDVmepWB7mxD_zfhcK5E1=s64",
      "userId": "06788086636039591358"
     },
     "user_tz": -330
    },
    "id": "VvnNzerpdVv5",
    "outputId": "0f50f38a-1d9b-4625-9b08-79f5e72b1dcd"
   },
   "outputs": [
    {
     "data": {
      "text/plain": [
       "array([[98.89658104]])"
      ]
     },
     "execution_count": 90,
     "metadata": {
      "tags": []
     },
     "output_type": "execute_result"
    }
   ],
   "source": [
    "W_model.predict([[174.80322616]])"
   ]
  },
  {
   "cell_type": "markdown",
   "metadata": {
    "colab_type": "text",
    "id": "dlW5iTFydvjo"
   },
   "source": [
    "Actual is 103, Our results are very close to the actual. This deviation is due to high level imputation done for missing values "
   ]
  }
 ],
 "metadata": {
  "colab": {
   "collapsed_sections": [],
   "name": "Case1_Sports_Analytics_Baseball.ipynb",
   "provenance": []
  },
  "kernelspec": {
   "display_name": "Python 3",
   "language": "python",
   "name": "python3"
  },
  "language_info": {
   "codemirror_mode": {
    "name": "ipython",
    "version": 3
   },
   "file_extension": ".py",
   "mimetype": "text/x-python",
   "name": "python",
   "nbconvert_exporter": "python",
   "pygments_lexer": "ipython3",
   "version": "3.7.3"
  }
 },
 "nbformat": 4,
 "nbformat_minor": 1
}
